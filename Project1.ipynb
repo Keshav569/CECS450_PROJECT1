{
 "cells": [
  {
   "cell_type": "code",
   "execution_count": 1,
   "metadata": {},
   "outputs": [
    {
     "name": "stdout",
     "output_type": "stream",
     "text": [
      "<_io.TextIOWrapper name='C:\\\\Users\\\\kesha\\\\Desktop\\\\Fall\\\\Data Visualiation\\\\Project 1\\\\text.txt' mode='r' encoding='cp1252'>\n",
      "['Star', 'Wars', 'is', 'an', 'American', 'epic', 'space', 'opera', 'media', 'franchise', 'created', 'by', 'George', 'Lucas,', 'which', 'began', 'with', 'the', 'eponymous', '1977', 'film', 'and', 'quickly', 'became', 'a', 'worldwide', 'pop-culture', 'phenomenon.', 'The', 'franchise', 'has', 'been', 'expanded', 'into', 'various', 'films', 'and', 'other', 'media,', 'including', 'television', 'series,', 'video', 'games,', 'novels,', 'comic', 'books,', 'theme', 'park', 'attractions,', 'and', 'themed', 'areas,', 'comprising', 'an', 'all-encompassing', 'fictional', 'universe.', 'The', 'franchise', 'holds', 'a', 'Guinness', 'World', 'Records', 'title', 'for', 'the', 'Most', 'successful', 'film', 'merchandising', 'franchise.[3]', 'In', '2020,', 'the', 'Star', 'Wars', \"franchise's\", 'total', 'value', 'was', 'estimated', 'at', 'US$70', 'billion,', 'and', 'it', 'is', 'currently', 'the', 'fifth-highest-grossing', 'media', 'franchise', 'of', 'all', 'time.', 'The', 'original', 'film,', 'retroactively', 'subtitled', 'Episode', 'IV:', 'A', 'New', 'Hope,', 'was', 'followed', 'by', 'the', 'sequels', 'Episode', 'V:', 'The', 'Empire', 'Strikes', 'Back', '(1980)', 'and', 'Episode', 'VI:', 'Return', 'of', 'the', 'Jedi', '(1983),', 'forming', 'the', 'original', 'Star', 'Wars', 'trilogy.', 'A', 'prequel', 'trilogy', 'was', 'later', 'released,', 'consisting', 'of', 'Episode', 'I:', 'The', 'Phantom', 'Menace', '(1999),', 'Episode', 'II:', 'Attack', 'of', 'the', 'Clones', '(2002),', 'and', 'Episode', 'III:', 'Revenge', 'of', 'the', 'Sith', '(2005).', 'In', '2012,', 'Lucas', 'sold', 'his', 'production', 'company', 'to', 'Disney,', 'relinquishing', 'his', 'ownership', 'of', 'the', 'franchise.', 'The', 'subsequently', 'produced', 'sequel', 'trilogy', 'consists', 'of', 'Episode', 'VII:', 'The', 'Force', 'Awakens', '(2015),', 'Episode', 'VIII:', 'The', 'Last', 'Jedi', '(2017),', 'and', 'Episode', 'IX:', 'The', 'Rise', 'of', 'Skywalker', '(2019).', 'Together,', 'the', 'three', 'trilogies', 'form', 'what', 'has', 'been', 'referred', 'to', 'as', 'the', 'Skywalker', 'saga.', 'All', 'nine', 'films', 'were', 'nominated', 'for', 'Academy', 'Awards', '(with', 'wins', 'going', 'to', 'the', 'first', 'two', 'released)', 'and', 'were', 'commercially', 'successful.', 'Together', 'with', 'the', 'theatrical', 'spin-off', 'films', 'Rogue', 'One', '(2016)', 'and', 'Solo:', 'A', 'Star', 'Wars', 'Story', '(2018),', 'the', 'combined', 'box', 'office', 'revenue', 'of', 'the', 'films', 'equates', 'to', 'over', 'US$10', 'billion,[4]', 'and', 'it', 'is', 'currently', 'the', 'second-highest-grossing', 'film', 'franchise']\n",
      "['Star', 'Wars', 'American', 'epic', 'space', 'opera', 'media', 'franchise', 'created', 'George', 'Lucas,', 'began', 'eponymous', '1977', 'film', 'quickly', 'became', 'worldwide', 'pop-culture', 'phenomenon.', 'The', 'franchise', 'expanded', 'various', 'films', 'media,', 'including', 'television', 'series,', 'video', 'games,', 'novels,', 'comic', 'books,', 'theme', 'park', 'attractions,', 'themed', 'areas,', 'comprising', 'all-encompassing', 'fictional', 'universe.', 'The', 'franchise', 'holds', 'Guinness', 'World', 'Records', 'title', 'Most', 'successful', 'film', 'merchandising', 'franchise.[3]', 'In', '2020,', 'Star', 'Wars', \"franchise's\", 'total', 'value', 'estimated', 'US$70', 'billion,', 'currently', 'fifth-highest-grossing', 'media', 'franchise', 'time.', 'The', 'original', 'film,', 'retroactively', 'subtitled', 'Episode', 'IV:', 'A', 'New', 'Hope,', 'followed', 'sequels', 'Episode', 'V:', 'The', 'Empire', 'Strikes', 'Back', '(1980)', 'Episode', 'VI:', 'Return', 'Jedi', '(1983),', 'forming', 'original', 'Star', 'Wars', 'trilogy.', 'A', 'prequel', 'trilogy', 'later', 'released,', 'consisting', 'Episode', 'I:', 'The', 'Phantom', 'Menace', '(1999),', 'Episode', 'II:', 'Attack', 'Clones', '(2002),', 'Episode', 'III:', 'Revenge', 'Sith', '(2005).', 'In', '2012,', 'Lucas', 'sold', 'production', 'company', 'Disney,', 'relinquishing', 'ownership', 'franchise.', 'The', 'subsequently', 'produced', 'sequel', 'trilogy', 'consists', 'Episode', 'VII:', 'The', 'Force', 'Awakens', '(2015),', 'Episode', 'VIII:', 'The', 'Last', 'Jedi', '(2017),', 'Episode', 'IX:', 'The', 'Rise', 'Skywalker', '(2019).', 'Together,', 'three', 'trilogies', 'form', 'referred', 'Skywalker', 'saga.', 'All', 'nine', 'films', 'nominated', 'Academy', 'Awards', '(with', 'wins', 'going', 'first', 'two', 'released)', 'commercially', 'successful.', 'Together', 'theatrical', 'spin-off', 'films', 'Rogue', 'One', '(2016)', 'Solo:', 'A', 'Star', 'Wars', 'Story', '(2018),', 'combined', 'box', 'office', 'revenue', 'films', 'equates', 'US$10', 'billion,[4]', 'currently', 'second-highest-grossing', 'film', 'franchise']\n",
      "{'Star': 4, 'Wars': 4, 'American': 1, 'epic': 1, 'space': 1, 'opera': 1, 'media': 2, 'franchise': 5, 'created': 1, 'George': 1, 'Lucas,': 1, 'began': 1, 'eponymous': 1, '1977': 1, 'film': 3, 'quickly': 1, 'became': 1, 'worldwide': 1, 'pop-culture': 1, 'phenomenon.': 1, 'The': 9, 'expanded': 1, 'various': 1, 'films': 4, 'media,': 1, 'including': 1, 'television': 1, 'series,': 1, 'video': 1, 'games,': 1, 'novels,': 1, 'comic': 1, 'books,': 1, 'theme': 1, 'park': 1, 'attractions,': 1, 'themed': 1, 'areas,': 1, 'comprising': 1, 'all-encompassing': 1, 'fictional': 1, 'universe.': 1, 'holds': 1, 'Guinness': 1, 'World': 1, 'Records': 1, 'title': 1, 'Most': 1, 'successful': 1, 'merchandising': 1, 'franchise.[3]': 1, 'In': 2, '2020,': 1, \"franchise's\": 1, 'total': 1, 'value': 1, 'estimated': 1, 'US$70': 1, 'billion,': 1, 'currently': 2, 'fifth-highest-grossing': 1, 'time.': 1, 'original': 2, 'film,': 1, 'retroactively': 1, 'subtitled': 1, 'Episode': 9, 'IV:': 1, 'A': 3, 'New': 1, 'Hope,': 1, 'followed': 1, 'sequels': 1, 'V:': 1, 'Empire': 1, 'Strikes': 1, 'Back': 1, '(1980)': 1, 'VI:': 1, 'Return': 1, 'Jedi': 2, '(1983),': 1, 'forming': 1, 'trilogy.': 1, 'prequel': 1, 'trilogy': 2, 'later': 1, 'released,': 1, 'consisting': 1, 'I:': 1, 'Phantom': 1, 'Menace': 1, '(1999),': 1, 'II:': 1, 'Attack': 1, 'Clones': 1, '(2002),': 1, 'III:': 1, 'Revenge': 1, 'Sith': 1, '(2005).': 1, '2012,': 1, 'Lucas': 1, 'sold': 1, 'production': 1, 'company': 1, 'Disney,': 1, 'relinquishing': 1, 'ownership': 1, 'franchise.': 1, 'subsequently': 1, 'produced': 1, 'sequel': 1, 'consists': 1, 'VII:': 1, 'Force': 1, 'Awakens': 1, '(2015),': 1, 'VIII:': 1, 'Last': 1, '(2017),': 1, 'IX:': 1, 'Rise': 1, 'Skywalker': 2, '(2019).': 1, 'Together,': 1, 'three': 1, 'trilogies': 1, 'form': 1, 'referred': 1, 'saga.': 1, 'All': 1, 'nine': 1, 'nominated': 1, 'Academy': 1, 'Awards': 1, '(with': 1, 'wins': 1, 'going': 1, 'first': 1, 'two': 1, 'released)': 1, 'commercially': 1, 'successful.': 1, 'Together': 1, 'theatrical': 1, 'spin-off': 1, 'Rogue': 1, 'One': 1, '(2016)': 1, 'Solo:': 1, 'Story': 1, '(2018),': 1, 'combined': 1, 'box': 1, 'office': 1, 'revenue': 1, 'equates': 1, 'US$10': 1, 'billion,[4]': 1, 'second-highest-grossing': 1}\n"
     ]
    }
   ],
   "source": [
    "import nltk\n",
    "from collections import Counter\n",
    "from nltk.corpus import stopwords \n",
    "f = open(r\"C:\\Users\\kesha\\Desktop\\Fall\\Data Visualiation\\Project 1\\text.txt\",\"r\")\n",
    "#print()\n",
    "#nltk.download('stopwords')\n",
    "out=f.readlines()\n",
    "words=[]\n",
    "print(f)\n",
    "for line in out:\n",
    "    words.extend(line.split())\n",
    "print(words)\n",
    "stops = set(stopwords.words(\"english\"))\n",
    "filtered_words = [w for w in words if w not in stops]\n",
    "print(filtered_words)\n",
    "frequency = dict(Counter(filtered_words))\n",
    "print(frequency)"
   ]
  },
  {
   "cell_type": "code",
   "execution_count": null,
   "metadata": {},
   "outputs": [],
   "source": []
  }
 ],
 "metadata": {
  "kernelspec": {
   "display_name": "Python 3",
   "language": "python",
   "name": "python3"
  },
  "language_info": {
   "codemirror_mode": {
    "name": "ipython",
    "version": 3
   },
   "file_extension": ".py",
   "mimetype": "text/x-python",
   "name": "python",
   "nbconvert_exporter": "python",
   "pygments_lexer": "ipython3",
   "version": "3.8.3"
  }
 },
 "nbformat": 4,
 "nbformat_minor": 4
}
